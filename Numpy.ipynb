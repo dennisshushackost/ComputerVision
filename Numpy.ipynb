{
 "cells": [
  {
   "cell_type": "markdown",
   "id": "f779008e-b12c-4059-9dac-ec21ecda9231",
   "metadata": {},
   "source": [
    "# Numpy Basics \n",
    "Is the core library for scientific computing in Python. The central object is the multidimensional array. Allows the mathematical operation with arrays. Core package under the hood of the main libraries. "
   ]
  },
  {
   "cell_type": "code",
   "execution_count": 2,
   "id": "07d1c062-4abc-4bed-9cdd-63bb7e20125a",
   "metadata": {},
   "outputs": [
    {
     "name": "stdout",
     "output_type": "stream",
     "text": [
      "1.25.2\n"
     ]
    }
   ],
   "source": [
    "import numpy as np\n",
    "print(np.__version__)"
   ]
  },
  {
   "cell_type": "code",
   "execution_count": 8,
   "id": "4dcf28b0-0ef2-42e9-bd77-5778d36795f0",
   "metadata": {},
   "outputs": [
    {
     "name": "stdout",
     "output_type": "stream",
     "text": [
      "[1 2 3]\n",
      "(3,)\n",
      "int64\n",
      "3\n"
     ]
    }
   ],
   "source": [
    "a = np.array([1,2,3])\n",
    "print(a)\n",
    "print(a.shape) # Get the shape\n",
    "print(a.dtype) # Get the type \n",
    "print(a.size) # Gets the total number of elements"
   ]
  },
  {
   "cell_type": "code",
   "execution_count": 9,
   "id": "2b26eeb9-b7ef-4bb2-ac6b-088444e1a7d2",
   "metadata": {},
   "outputs": [
    {
     "name": "stdout",
     "output_type": "stream",
     "text": [
      "1\n",
      "[23  2  3]\n"
     ]
    }
   ],
   "source": [
    "# Assign Values:\n",
    "print(a[0])\n",
    "a[0] = 23\n",
    "print(a)"
   ]
  },
  {
   "cell_type": "code",
   "execution_count": 10,
   "id": "26ac0bc3-6137-463f-b168-ca4b5488bde2",
   "metadata": {},
   "outputs": [
    {
     "name": "stdout",
     "output_type": "stream",
     "text": [
      "[46  0  6]\n"
     ]
    }
   ],
   "source": [
    "# Mathematical Operations (Every element of a gets multiplied)\n",
    "b = a * np.array([2,0,2])\n",
    "print(b)\n",
    "\n",
    "# Add an element to our list \n",
    "a = np.array([1,2,3]"
   ]
  },
  {
   "cell_type": "code",
   "execution_count": null,
   "id": "68ca4d1e-183a-4cc4-9575-770a3d1135a6",
   "metadata": {},
   "outputs": [],
   "source": []
  }
 ],
 "metadata": {
  "kernelspec": {
   "display_name": "Python 3 (ipykernel)",
   "language": "python",
   "name": "python3"
  },
  "language_info": {
   "codemirror_mode": {
    "name": "ipython",
    "version": 3
   },
   "file_extension": ".py",
   "mimetype": "text/x-python",
   "name": "python",
   "nbconvert_exporter": "python",
   "pygments_lexer": "ipython3",
   "version": "3.11.5"
  }
 },
 "nbformat": 4,
 "nbformat_minor": 5
}
