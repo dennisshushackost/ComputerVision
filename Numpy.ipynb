{
 "cells": [
  {
   "cell_type": "markdown",
   "id": "f779008e-b12c-4059-9dac-ec21ecda9231",
   "metadata": {},
   "source": [
    "# Numpy Basics \n",
    "Is the core library for scientific computing in ML. The central object is the multidimensional array. Allows the mathematical operation with arrays."
   ]
  },
  {
   "cell_type": "code",
   "execution_count": 1,
   "id": "07d1c062-4abc-4bed-9cdd-63bb7e20125a",
   "metadata": {},
   "outputs": [],
   "source": [
    "import numpy as np"
   ]
  },
  {
   "cell_type": "code",
   "execution_count": null,
   "id": "4dcf28b0-0ef2-42e9-bd77-5778d36795f0",
   "metadata": {},
   "outputs": [],
   "source": []
  }
 ],
 "metadata": {
  "kernelspec": {
   "display_name": "Python 3 (ipykernel)",
   "language": "python",
   "name": "python3"
  },
  "language_info": {
   "codemirror_mode": {
    "name": "ipython",
    "version": 3
   },
   "file_extension": ".py",
   "mimetype": "text/x-python",
   "name": "python",
   "nbconvert_exporter": "python",
   "pygments_lexer": "ipython3",
   "version": "3.11.5"
  }
 },
 "nbformat": 4,
 "nbformat_minor": 5
}
