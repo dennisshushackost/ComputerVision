{
 "cells": [
  {
   "cell_type": "markdown",
   "id": "f779008e-b12c-4059-9dac-ec21ecda9231",
   "metadata": {},
   "source": [
    "# Numpy Basics \n",
    "Is the core library for scientific computing in ML. The central object is the multidimensional array. Allows the mathematical operation with arrays."
   ]
  },
  {
   "cell_type": "code",
   "execution_count": 4,
   "id": "a2f687cf-f21d-4946-a82a-04425583dd92",
   "metadata": {
    "editable": true,
    "slideshow": {
     "slide_type": ""
    },
    "tags": []
   },
   "outputs": [
    {
     "name": "stdout",
     "output_type": "stream",
     "text": [
      "1.25.2\n"
     ]
    }
   ],
   "source": [
    "import numpy as np\n",
    "print(np.__version__)"
   ]
  },
  {
   "cell_type": "code",
   "execution_count": 11,
   "id": "d7afbae0-f11d-422b-baa0-161d36b823d2",
   "metadata": {},
   "outputs": [
    {
     "name": "stdout",
     "output_type": "stream",
     "text": [
      "[1 2 3]\n",
      "(3,)\n",
      "int64\n",
      "1\n",
      "3\n"
     ]
    }
   ],
   "source": [
    "#Creating an array:\n",
    "a = np.array([1,2,3])\n",
    "print(a)\n",
    "print(a.shape)\n",
    "print(a.dtype)\n",
    "print(a.ndim)\n",
    "print(a.size)"
   ]
  },
  {
   "cell_type": "code",
   "execution_count": 13,
   "id": "71f9af91-548a-4aad-bc4e-42ba6b619fb4",
   "metadata": {},
   "outputs": [
    {
     "name": "stdout",
     "output_type": "stream",
     "text": [
      "1\n",
      "[10  2  3]\n"
     ]
    }
   ],
   "source": [
    "# Access different elements:\n",
    "print(a[0])\n",
    "a[0] = 10 \n",
    "print(a)"
   ]
  },
  {
   "cell_type": "code",
   "execution_count": 14,
   "id": "1d97c13d-c161-4ddb-ad55-78b5a5bbd962",
   "metadata": {},
   "outputs": [
    {
     "name": "stdout",
     "output_type": "stream",
     "text": [
      "[20  0  6]\n"
     ]
    }
   ],
   "source": [
    "b = a * np.array([2,0,2])\n",
    "print(b)"
   ]
  },
  {
   "cell_type": "code",
   "execution_count": 18,
   "id": "a7b5e36a-03bd-494b-a512-901deb905816",
   "metadata": {},
   "outputs": [
    {
     "name": "stdout",
     "output_type": "stream",
     "text": [
      "[1, 2, 3, 4]\n",
      "[5 6 7]\n",
      "[10 12 14]\n",
      "[3.16227766 3.46410162 3.74165739]\n"
     ]
    }
   ],
   "source": [
    "# Differences between lists and arrays:\n",
    "l = [1,2,3]\n",
    "a = np.array([1,2,3])\n",
    "\n",
    "# The append does not work with numpy:\n",
    "l.append(4)\n",
    "print(l)\n",
    "\n",
    "# This is broadcasing and does not add another element:\n",
    "a = a + np.array(4)\n",
    "print(a)\n",
    "\n",
    "# Multiplication in numpy \n",
    "a = a * 2\n",
    "print(a)\n",
    "\n",
    "# Square Root:\n",
    "c = np.sqrt(a)\n",
    "print(c) \n",
    "\n",
    "# Dot Product:\n"
   ]
  },
  {
   "cell_type": "code",
   "execution_count": null,
   "id": "40e5eace-f13c-4980-8edd-9b7d36c7ef70",
   "metadata": {},
   "outputs": [],
   "source": []
  }
 ],
 "metadata": {
  "kernelspec": {
   "display_name": "Python 3 (ipykernel)",
   "language": "python",
   "name": "python3"
  },
  "language_info": {
   "codemirror_mode": {
    "name": "ipython",
    "version": 3
   },
   "file_extension": ".py",
   "mimetype": "text/x-python",
   "name": "python",
   "nbconvert_exporter": "python",
   "pygments_lexer": "ipython3",
   "version": "3.11.5"
  }
 },
 "nbformat": 4,
 "nbformat_minor": 5
}
